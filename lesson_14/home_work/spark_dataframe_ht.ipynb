{
 "cells": [
  {
   "cell_type": "code",
   "execution_count": 1,
   "metadata": {
    "collapsed": true,
    "ExecuteTime": {
     "end_time": "2023-07-26T19:44:42.734632200Z",
     "start_time": "2023-07-26T19:44:42.478600400Z"
    }
   },
   "outputs": [],
   "source": [
    "from pyspark.sql import SparkSession, functions as F, types as T, Window"
   ]
  },
  {
   "cell_type": "code",
   "execution_count": 2,
   "metadata": {
    "collapsed": false,
    "pycharm": {
     "is_executing": true
    },
    "ExecuteTime": {
     "end_time": "2023-07-26T19:44:51.853079Z",
     "start_time": "2023-07-26T19:44:48.135508600Z"
    }
   },
   "outputs": [],
   "source": [
    "spark = SparkSession.builder.master('local[*]').getOrCreate()"
   ]
  },
  {
   "cell_type": "markdown",
   "source": [],
   "metadata": {
    "collapsed": false
   }
  },
  {
   "cell_type": "code",
   "execution_count": 3,
   "metadata": {
    "collapsed": false,
    "ExecuteTime": {
     "end_time": "2023-07-26T19:44:53.724723100Z",
     "start_time": "2023-07-26T19:44:53.712910400Z"
    }
   },
   "outputs": [
    {
     "name": "stdout",
     "output_type": "stream",
     "text": [
      "3.4.1\n"
     ]
    }
   ],
   "source": [
    "print(spark.version)"
   ]
  },
  {
   "cell_type": "code",
   "execution_count": 4,
   "metadata": {
    "collapsed": false,
    "ExecuteTime": {
     "end_time": "2023-07-26T19:45:05.243636100Z",
     "start_time": "2023-07-26T19:44:57.888694Z"
    }
   },
   "outputs": [],
   "source": [
    "actor_df = spark.read.csv('./data/actor.csv', header=True, inferSchema=True)\n",
    "address_df = spark.read.csv('./data/address.csv', header=True, inferSchema=True)\n",
    "category_df = spark.read.csv('./data/category.csv', header=True, inferSchema=True)\n",
    "city_df = spark.read.csv('./data/city.csv', header=True, inferSchema=True)\n",
    "country_df = spark.read.csv('./data/country.csv', header=True, inferSchema=True)\n",
    "customer_df = spark.read.csv('./data/customer.csv', header=True, inferSchema=True)\n",
    "film_df = spark.read.csv('./data/film.csv', header=True, inferSchema=True)\n",
    "film_actor_df = spark.read.csv('./data/film_actor.csv', header=True, inferSchema=True)\n",
    "film_category_df = spark.read.csv('./data/film_category.csv', header=True, inferSchema=True)\n",
    "inventory_df = spark.read.csv('./data/inventory.csv', header=True, inferSchema=True)\n",
    "language_df = spark.read.csv('./data/language.csv', header=True, inferSchema=True)\n",
    "payment_df = spark.read.csv('./data/payment.csv', header=True, inferSchema=True)\n",
    "rental_df = spark.read.csv('./data/rental.csv', header=True, inferSchema=True)\n",
    "staff_df = spark.read.csv('./data/staff.csv', header=True, inferSchema=True)\n",
    "store_df = spark.read.csv('./data/store.csv', header=True, inferSchema=True)"
   ]
  },
  {
   "cell_type": "markdown",
   "metadata": {
    "collapsed": false
   },
   "source": [
    "# Домашнє завдання на тему Spark SQL\n",
    "\n",
    "Задачі з домашнього завдання на SQL потрібно розвʼязати за допомогою Spark SQL DataFrame API.\n",
    "\n",
    "- Дампи таблиць знаходяться в папці `data`. Датафрейми таблиць вже створені в клітинці вище.\n",
    "- Можете створювати стільки нових клітинок, скільки вам необхідно.\n",
    "- Розвʼязок кожної задачі має бути відображений в самому файлі (використати метод `.show()`)\n",
    "- код має бути оформлений у відповідності із одним із стилем, показаним лектором на занятті 13.\n",
    "\n",
    "**Увага!**\n",
    "Використовувати мову запитів SQL безпосередньо забороняється, потрібно використовувати виключно DataFrame API!\n"
   ]
  },
  {
   "cell_type": "markdown",
   "metadata": {
    "collapsed": false
   },
   "source": [
    "1.\n",
    "Вивести кількість фільмів в кожній категорії.\n",
    "Результат відсортувати за спаданням."
   ]
  },
  {
   "cell_type": "code",
   "execution_count": 5,
   "metadata": {
    "collapsed": false,
    "ExecuteTime": {
     "end_time": "2023-07-26T19:45:26.091157500Z",
     "start_time": "2023-07-26T19:45:25.141277100Z"
    }
   },
   "outputs": [
    {
     "name": "stdout",
     "output_type": "stream",
     "text": [
      "+-----------+-----------+-----+\n",
      "|category_id|       name|count|\n",
      "+-----------+-----------+-----+\n",
      "|         15|     Sports|   74|\n",
      "|          9|    Foreign|   73|\n",
      "|          8|     Family|   69|\n",
      "|          6|Documentary|   68|\n",
      "|          2|  Animation|   66|\n",
      "|          1|     Action|   64|\n",
      "|         13|        New|   63|\n",
      "|          7|      Drama|   62|\n",
      "|         14|     Sci-Fi|   61|\n",
      "|         10|      Games|   61|\n",
      "|          3|   Children|   60|\n",
      "|          5|     Comedy|   58|\n",
      "|          4|   Classics|   57|\n",
      "|         16|     Travel|   57|\n",
      "|         11|     Horror|   56|\n",
      "|         12|      Music|   51|\n",
      "+-----------+-----------+-----+\n",
      "\n"
     ]
    }
   ],
   "source": [
    "joined_df = category_df.join(film_category_df, ['category_id'], 'left')\n",
    "joined_df\\\n",
    "    .groupby(['category_id','name'])\\\n",
    "    .agg(\n",
    "        F.count('category_id').alias('count')\n",
    "    )\\\n",
    "    .orderBy(F.col('count').desc())\\\n",
    "    .show()"
   ]
  },
  {
   "cell_type": "markdown",
   "metadata": {
    "collapsed": false
   },
   "source": [
    "2.\n",
    "Вивести 10 акторів, чиї фільми брали на прокат найбільше.\n",
    "Результат відсортувати за спаданням."
   ]
  },
  {
   "cell_type": "code",
   "execution_count": 35,
   "metadata": {
    "collapsed": false,
    "ExecuteTime": {
     "end_time": "2023-07-26T20:39:28.952958400Z",
     "start_time": "2023-07-26T20:39:28.263438900Z"
    }
   },
   "outputs": [
    {
     "name": "stdout",
     "output_type": "stream",
     "text": [
      "+--------+----------+-----------+-----+\n",
      "|actor_id|first_name|  last_name|count|\n",
      "+--------+----------+-----------+-----+\n",
      "|     107|      GINA|  DEGENERES|  753|\n",
      "|     181|   MATTHEW|     CARREY|  678|\n",
      "|     198|      MARY|     KEITEL|  674|\n",
      "|     144|    ANGELA|WITHERSPOON|  654|\n",
      "|     102|    WALTER|       TORN|  640|\n",
      "|      60|     HENRY|      BERRY|  612|\n",
      "|     150|     JAYNE|      NOLTE|  611|\n",
      "|      37|       VAL|     BOLGER|  605|\n",
      "|      23|    SANDRA|     KILMER|  604|\n",
      "|      90|      SEAN|    GUINESS|  599|\n",
      "+--------+----------+-----------+-----+\n",
      "\n"
     ]
    }
   ],
   "source": [
    "joined_df = rental_df\\\n",
    "    .join(inventory_df, ['inventory_id'], 'inner')\\\n",
    "    .join(film_df, ['film_id'], 'inner')\\\n",
    "    .join(film_actor_df, ['film_id'], 'inner')\\\n",
    "    .join(actor_df, ['actor_id'], 'inner')\n",
    "\n",
    "window = Window.orderBy([F.col('count').desc()])\n",
    "\n",
    "joined_df\\\n",
    "    .groupBy(['actor_id','first_name','last_name'])\\\n",
    "    .agg(F.count('rental_id').alias('count'))\\\n",
    "    .withColumn('rank',F.rank().over(window))\\\n",
    "    .filter(F.col('rank')<=10)\\\n",
    "    .orderBy(F.col('count').desc())\\\n",
    "    .drop('rank')\\\n",
    "    .show()"
   ]
  },
  {
   "cell_type": "markdown",
   "metadata": {
    "collapsed": false
   },
   "source": [
    "3.\n",
    "Вивести категорія фільмів, на яку було витрачено найбільше грошей\n",
    "в прокаті"
   ]
  },
  {
   "cell_type": "code",
   "execution_count": 16,
   "metadata": {
    "collapsed": false,
    "ExecuteTime": {
     "end_time": "2023-07-26T20:06:17.602150600Z",
     "start_time": "2023-07-26T20:06:17.239392Z"
    }
   },
   "outputs": [
    {
     "name": "stdout",
     "output_type": "stream",
     "text": [
      "+-----------+------+------------------+\n",
      "|category_id|  name|               sum|\n",
      "+-----------+------+------------------+\n",
      "|         15|Sports|3617.2099999998945|\n",
      "+-----------+------+------------------+\n",
      "\n"
     ]
    }
   ],
   "source": [
    "joined_df = rental_df\\\n",
    "    .join(inventory_df, ['inventory_id'], 'inner')\\\n",
    "    .join(film_df, ['film_id'], 'inner')\\\n",
    "    .join(film_category_df, ['film_id'], 'inner')\\\n",
    "    .join(category_df, ['category_id'], 'inner')\n",
    "\n",
    "window = Window.orderBy([F.col('sum').desc()])\n",
    "\n",
    "joined_df\\\n",
    "    .groupby(['category_id', 'name'])\\\n",
    "    .agg(F.sum('rental_rate').alias('sum'))\\\n",
    "    .withColumn('rank', F.rank().over(window))\\\n",
    "    .filter(F.col('rank') == 1)\\\n",
    "    .drop('rank')\\\n",
    "    .show()"
   ]
  },
  {
   "cell_type": "markdown",
   "metadata": {
    "collapsed": false
   },
   "source": [
    "4.\n",
    "Вивести назви фільмів, яких не має в inventory."
   ]
  },
  {
   "cell_type": "code",
   "execution_count": 34,
   "metadata": {
    "collapsed": false,
    "ExecuteTime": {
     "end_time": "2023-07-26T20:25:39.745260Z",
     "start_time": "2023-07-26T20:25:39.635225300Z"
    }
   },
   "outputs": [
    {
     "name": "stdout",
     "output_type": "stream",
     "text": [
      "+--------------------+\n",
      "|               title|\n",
      "+--------------------+\n",
      "|      ALICE FANTASIA|\n",
      "|         APOLLO TEEN|\n",
      "|      ARGONAUTS TOWN|\n",
      "|       ARK RIDGEMONT|\n",
      "|ARSENIC INDEPENDENCE|\n",
      "|   BOONDOCK BALLROOM|\n",
      "|       BUTCH PANTHER|\n",
      "|       CATCH AMISTAD|\n",
      "| CHINATOWN GLADIATOR|\n",
      "|      CHOCOLATE DUCK|\n",
      "|COMMANDMENTS EXPRESS|\n",
      "|    CROSSING DIVORCE|\n",
      "|     CROWDS TELEMARK|\n",
      "|    CRYSTAL BREAKING|\n",
      "|          DAZED PUNK|\n",
      "|DELIVERANCE MULHO...|\n",
      "|   FIREHOUSE VIETNAM|\n",
      "|       FLOATS GARDEN|\n",
      "|FRANKENSTEIN STRA...|\n",
      "|  GLADIATOR WESTWARD|\n",
      "|           GUMP DATE|\n",
      "|       HATE HANDICAP|\n",
      "|         HOCUS FRIDA|\n",
      "|    KENTUCKIAN GIANT|\n",
      "|    KILL BROTHERHOOD|\n",
      "|         MUPPET MILE|\n",
      "|      ORDER BETRAYED|\n",
      "|       PEARL DESTINY|\n",
      "|     PERDITION FARGO|\n",
      "|       PSYCHO SHRUNK|\n",
      "|   RAIDERS ANTITRUST|\n",
      "|       RAINBOW SHOCK|\n",
      "|       ROOF CHAMPION|\n",
      "|       SISTER FREDDY|\n",
      "|         SKY MIRACLE|\n",
      "|    SUICIDES SILENCE|\n",
      "|        TADPOLE PARK|\n",
      "|    TREASURE COMMAND|\n",
      "|   VILLAIN DESPERATE|\n",
      "|        VOLUME HOUSE|\n",
      "|           WAKE JAWS|\n",
      "|        WALLS ARTIST|\n",
      "+--------------------+\n",
      "\n"
     ]
    }
   ],
   "source": [
    "film_df\\\n",
    "    .join(inventory_df, ['film_id'], 'left_anti')\\\n",
    "    .select('title')\\\n",
    "    .show(n=100)"
   ]
  },
  {
   "cell_type": "markdown",
   "metadata": {
    "collapsed": false
   },
   "source": [
    "5.\n",
    "Вивести топ 3 актори, які найбільше зʼявлялись в категорії фільмів “Children”"
   ]
  },
  {
   "cell_type": "code",
   "execution_count": 36,
   "metadata": {
    "collapsed": false,
    "pycharm": {
     "is_executing": true
    },
    "ExecuteTime": {
     "end_time": "2023-07-26T20:39:50.923099400Z",
     "start_time": "2023-07-26T20:39:50.361432800Z"
    }
   },
   "outputs": [
    {
     "name": "stdout",
     "output_type": "stream",
     "text": [
      "+--------+----------+---------+-----+\n",
      "|actor_id|first_name|last_name|count|\n",
      "+--------+----------+---------+-----+\n",
      "|      17|     HELEN|   VOIGHT|    7|\n",
      "|     127|     KEVIN|  GARLAND|    5|\n",
      "|      80|     RALPH|     CRUZ|    5|\n",
      "|      66|      MARY|    TANDY|    5|\n",
      "|     140|    WHOOPI|     HURT|    5|\n",
      "+--------+----------+---------+-----+\n",
      "\n"
     ]
    }
   ],
   "source": [
    "joined_df = actor_df\\\n",
    "    .join(film_actor_df, ['actor_id'], 'inner')\\\n",
    "    .join(film_df, ['film_id'], 'inner')\\\n",
    "    .join(film_category_df, ['film_id'], 'inner')\\\n",
    "    .join(category_df, ['category_id'], 'inner')\n",
    "\n",
    "window = Window.orderBy(F.col('count').desc())\n",
    "\n",
    "joined_df\\\n",
    "    .filter(F.col('name') == 'Children')\\\n",
    "    .groupby(['actor_id', 'first_name', 'last_name'])\\\n",
    "    .agg(F.count('actor_id').alias('count'))\\\n",
    "    .withColumn('rank', F.rank().over(window))\\\n",
    "    .filter(F.col('rank') <= 3)\\\n",
    "    .orderBy(F.col('count').desc())\\\n",
    "    .drop('rank')\\\n",
    "    .show()"
   ]
  },
  {
   "cell_type": "code",
   "execution_count": null,
   "metadata": {
    "collapsed": false
   },
   "outputs": [],
   "source": []
  },
  {
   "cell_type": "markdown",
   "metadata": {
    "collapsed": false
   },
   "source": [
    "Stop Spark session:"
   ]
  },
  {
   "cell_type": "code",
   "execution_count": 37,
   "metadata": {
    "collapsed": false,
    "ExecuteTime": {
     "end_time": "2023-07-26T20:42:35.619047500Z",
     "start_time": "2023-07-26T20:42:35.263894400Z"
    }
   },
   "outputs": [],
   "source": [
    "spark.stop()"
   ]
  },
  {
   "cell_type": "code",
   "execution_count": null,
   "outputs": [],
   "source": [],
   "metadata": {
    "collapsed": false
   }
  }
 ],
 "metadata": {
  "kernelspec": {
   "display_name": "Python 3",
   "language": "python",
   "name": "python3"
  },
  "language_info": {
   "codemirror_mode": {
    "name": "ipython",
    "version": 2
   },
   "file_extension": ".py",
   "mimetype": "text/x-python",
   "name": "python",
   "nbconvert_exporter": "python",
   "pygments_lexer": "ipython2",
   "version": "2.7.6"
  }
 },
 "nbformat": 4,
 "nbformat_minor": 0
}
